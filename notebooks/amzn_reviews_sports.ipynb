{
 "cells": [
  {
   "cell_type": "markdown",
   "metadata": {},
   "source": [
    "## Data Retrieving"
   ]
  },
  {
   "cell_type": "markdown",
   "metadata": {},
   "source": [
    "#### <font color=\"sky blue\">Read Review for Toys from Amazon S3</font>"
   ]
  },
  {
   "cell_type": "code",
   "execution_count": 1,
   "metadata": {},
   "outputs": [],
   "source": [
    "# Import SparkSession\n",
    "from pyspark.sql import SparkSession\n",
    "\n",
    "# CreateSparkSession\n",
    "spark = SparkSession.builder.appName(\"amzn_review_sports\").getOrCreate()"
   ]
  },
  {
   "cell_type": "code",
   "execution_count": 2,
   "metadata": {},
   "outputs": [
    {
     "data": {
      "text/plain": [
       "[StructField(marketplace,StringType,true),\n",
       " StructField(customer_id,IntegerType,true),\n",
       " StructField(review_id,StringType,true),\n",
       " StructField(product_id,StringType,true),\n",
       " StructField(product_parent,IntegerType,true),\n",
       " StructField(product_title,StringType,true),\n",
       " StructField(product_category,StringType,true),\n",
       " StructField(star_rating,IntegerType,true),\n",
       " StructField(helpful_votes,IntegerType,true),\n",
       " StructField(total_votes,IntegerType,true),\n",
       " StructField(vine,StringType,true),\n",
       " StructField(verified_purchase,StringType,true),\n",
       " StructField(review_headline,StringType,true),\n",
       " StructField(review_body,StringType,true),\n",
       " StructField(review_date,DateType,true)]"
      ]
     },
     "execution_count": 2,
     "metadata": {},
     "output_type": "execute_result"
    }
   ],
   "source": [
    "# Import struct fields\n",
    "from pyspark.sql.types import StructField, StringType, IntegerType, DateType, StructType\n",
    "\n",
    "# Lists of struct fields\n",
    "schema = [\\\n",
    "    StructField(\"marketplace\", StringType(), True),\\\n",
    "    StructField(\"customer_id\", IntegerType(), True),\\\n",
    "    StructField(\"review_id\", StringType(), True),\\\n",
    "    StructField(\"product_id\", StringType(), True),\\\n",
    "    StructField(\"product_parent\", IntegerType(), True),\\\n",
    "    StructField(\"product_title\", StringType(), True),\\\n",
    "    StructField(\"product_category\", StringType(), True),\\\n",
    "    StructField(\"star_rating\", IntegerType(), True),\\\n",
    "    StructField(\"helpful_votes\", IntegerType(), True),\\\n",
    "    StructField(\"total_votes\", IntegerType(), True),\\\n",
    "    StructField(\"vine\", StringType(), True),\\\n",
    "    StructField(\"verified_purchase\", StringType(), True),\\\n",
    "    StructField(\"review_headline\", StringType(), True),\\\n",
    "    StructField(\"review_body\", StringType(), True),\\\n",
    "    StructField(\"review_date\", DateType(), True)\\\n",
    "]\n",
    "\n",
    "# View \"schema\"\n",
    "schema"
   ]
  },
  {
   "cell_type": "code",
   "execution_count": 3,
   "metadata": {},
   "outputs": [],
   "source": [
    "# Pass in fields\n",
    "final = StructType(fields=schema)"
   ]
  },
  {
   "cell_type": "code",
   "execution_count": 4,
   "metadata": {},
   "outputs": [
    {
     "name": "stdout",
     "output_type": "stream",
     "text": [
      "+-----------+-----------+--------------+----------+--------------+--------------------+----------------+-----------+-------------+-----------+----+-----------------+--------------------+--------------------+-----------+\n",
      "|marketplace|customer_id|     review_id|product_id|product_parent|       product_title|product_category|star_rating|helpful_votes|total_votes|vine|verified_purchase|     review_headline|         review_body|review_date|\n",
      "+-----------+-----------+--------------+----------+--------------+--------------------+----------------+-----------+-------------+-----------+----+-----------------+--------------------+--------------------+-----------+\n",
      "|         US|   48945260|R1WBPB8MDCCN8F|B012P7UPSM|     409940130|Chicago Blackhawk...|          Sports|          5|            0|          0|   N|                N|   LOVE IT. 6 stars!|Bought this last ...| 2015-08-31|\n",
      "|         US|    5782091|R32M0YEWV77XG8|B001GQ3VHG|     657746679|Copag Poker Size ...|          Sports|          5|            1|          1|   N|                Y|       Shipped fast.|These are the bes...| 2015-08-31|\n",
      "|         US|   45813853| RR8V7WR27NXJ5|B008VS8M58|     962442336|Baoer 223 5.56x45...|          Sports|          1|            0|          0|   N|                Y|Good idea if it w...|It looks good, th...| 2015-08-31|\n",
      "|         US|    1593730|R1MHO5V9Z932AY|B005F06F4U|      74305227|All Terrain Tackl...|          Sports|          5|            0|          0|   N|                Y|          Five Stars|           Great jig| 2015-08-31|\n",
      "|         US|   29605511|R16PD71086BD2V|B010T4IE2C|     787185588|Swim Cap - 3 Pack...|          Sports|          5|            0|          1|   N|                N|Great quality sil...|I love swimming i...| 2015-08-31|\n",
      "|         US|   11112959|R1Z8IFGWTRWXT6|B004RKJGLS|      94127483|adidas Men's Spor...|          Sports|          3|            0|          0|   N|                Y|Love everything a...|Love everything a...| 2015-08-31|\n",
      "|         US|     108031|R3AUMSHAW73HWN|B005V3DCBU|     526977496|Nike Men's Perfor...|          Sports|          4|            2|          3|   N|                N|          Four Stars|not the best sock...| 2015-08-31|\n",
      "|         US|   13981540|R2KWDWFOHGX6FL|B00MHT9WN8|      26521265|Green Bay Packers...|          Sports|          5|            0|          0|   N|                Y|          Five Stars|             Love it| 2015-08-31|\n",
      "|         US|   37993909|R3H9543FWBWFBU|B001CSIRQ8|     652431165|Isokinetics Inc. ...|          Sports|          5|            1|          1|   N|                Y|can't wait to use it|Unfortunately I h...| 2015-08-31|\n",
      "|         US|   26040213| RUANXOQ9W3OU5|B001KZ3NOO|     635861713|Aottop Quality El...|          Sports|          5|            0|          0|   N|                Y|great product, ac...|fast shipping , g...| 2015-08-31|\n",
      "|         US|   34657602|R31673RTGEZSW7|B00005RCQS|      72099763|Everlast 2'x6' Fo...|          Sports|          5|            2|          2|   N|                Y|this mat is a pre...|If you have a ter...| 2015-08-31|\n",
      "|         US|   14346192|R22OQLFSH42RCM|B00FA7RWVI|     757354022|OGIO Men's Shredd...|          Sports|          5|            1|          1|   N|                Y|  Versatile Golf Bag|Love this golf ba...| 2015-08-31|\n",
      "|         US|   38782687|R12LEL4F3TSZUJ|B000MMH2HU|     272402599|Blue Sea Systems ...|          Sports|          5|            2|          2|   N|                Y|Great AC Main Bre...|Perfect mounting ...| 2015-08-31|\n",
      "|         US|   27138575|R2L9XWD03072NI|B00WJOATDS|     375070208|Zengi AR15 45 Deg...|          Sports|          5|            1|          2|   N|                Y|   Nice, some quirks|For the cost you ...| 2015-08-31|\n",
      "|         US|   11838771|R2K0U91HIACANO|B00BOM2JNY|     639666785|Black Mountain Pr...|          Sports|          5|            0|          0|   N|                N|55 cm - Good qual...|The ball is very ...| 2015-08-31|\n",
      "|         US|     535800|R29SP6MBT7MXG7|B00OD5GAFM|      38715442|Trijicon VCOG 1-6...|          Sports|          4|            3|          3|   N|                Y|    Very nice scope.|Very nice scope.....| 2015-08-31|\n",
      "|         US|   23156579|R31XREAAMATEPY|B00CAHDC1K|      57088652|Naruto Headband f...|          Sports|          5|            0|          0|   N|                Y|was for my son an...|           This item| 2015-08-31|\n",
      "|         US|   48107879|R2116AVB87SO38|B004NLHXLG|     114125984|Under Armour Men'...|          Sports|          5|            0|          0|   N|                Y|          Five Stars|greatest socks i ...| 2015-08-31|\n",
      "|         US|   27260960|R3RDVBB6O0X3HW|B00L7OANWI|     883962979|Yes4All Deep Tiss...|          Sports|          5|            0|          0|   N|                Y|          Five Stars|Perfect for home ...| 2015-08-31|\n",
      "|         US|   39537314|R3LW5T149LKKQM|B0085PPSIQ|     691479969|Lansky PS-MED01 B...|          Sports|          4|            0|          0|   N|                Y|A bit heavy for p...|Very good product...| 2015-08-31|\n",
      "+-----------+-----------+--------------+----------+--------------+--------------------+----------------+-----------+-------------+-----------+----+-----------------+--------------------+--------------------+-----------+\n",
      "only showing top 20 rows\n",
      "\n"
     ]
    }
   ],
   "source": [
    "# Load in data with schema\n",
    "from pyspark import SparkFiles\n",
    "url = \"https://s3.amazonaws.com/amazon-reviews-pds/tsv/amazon_reviews_us_Sports_v1_00.tsv.gz\"\n",
    "spark.sparkContext.addFile(url)\n",
    "df = spark.read.csv(SparkFiles.get(\"amazon_reviews_us_Sports_v1_00.tsv.gz\"), sep=\"\\t\", header=True, schema=final)\n",
    "\n",
    "# View Amazon sport review (us) dataset\n",
    "df.show()"
   ]
  },
  {
   "cell_type": "code",
   "execution_count": 5,
   "metadata": {},
   "outputs": [
    {
     "name": "stdout",
     "output_type": "stream",
     "text": [
      "There are 4850360 records (rows) in Amazon sport review (us) dataset.\n"
     ]
    }
   ],
   "source": [
    "# Count the number of records (rows) in the dataset\n",
    "print(f\"There are {df.count()} records (rows) in Amazon sport review (us) dataset.\")"
   ]
  },
  {
   "cell_type": "markdown",
   "metadata": {},
   "source": [
    "## Table Generation and SQL DB Transferring"
   ]
  },
  {
   "cell_type": "markdown",
   "metadata": {},
   "source": [
    "#### <font color=\"sky blue\">\"review_id_table\"</font>"
   ]
  },
  {
   "cell_type": "code",
   "execution_count": 6,
   "metadata": {},
   "outputs": [
    {
     "name": "stdout",
     "output_type": "stream",
     "text": [
      "+--------------+-----------+----------+--------------+-----------+\n",
      "|review_id     |customer_id|product_id|product_parent|review_date|\n",
      "+--------------+-----------+----------+--------------+-----------+\n",
      "|R1WBPB8MDCCN8F|48945260   |B012P7UPSM|409940130     |2015-08-31 |\n",
      "|R32M0YEWV77XG8|5782091    |B001GQ3VHG|657746679     |2015-08-31 |\n",
      "|RR8V7WR27NXJ5 |45813853   |B008VS8M58|962442336     |2015-08-31 |\n",
      "|R1MHO5V9Z932AY|1593730    |B005F06F4U|74305227      |2015-08-31 |\n",
      "|R16PD71086BD2V|29605511   |B010T4IE2C|787185588     |2015-08-31 |\n",
      "|R1Z8IFGWTRWXT6|11112959   |B004RKJGLS|94127483      |2015-08-31 |\n",
      "|R3AUMSHAW73HWN|108031     |B005V3DCBU|526977496     |2015-08-31 |\n",
      "|R2KWDWFOHGX6FL|13981540   |B00MHT9WN8|26521265      |2015-08-31 |\n",
      "|R3H9543FWBWFBU|37993909   |B001CSIRQ8|652431165     |2015-08-31 |\n",
      "|RUANXOQ9W3OU5 |26040213   |B001KZ3NOO|635861713     |2015-08-31 |\n",
      "|R31673RTGEZSW7|34657602   |B00005RCQS|72099763      |2015-08-31 |\n",
      "|R22OQLFSH42RCM|14346192   |B00FA7RWVI|757354022     |2015-08-31 |\n",
      "|R12LEL4F3TSZUJ|38782687   |B000MMH2HU|272402599     |2015-08-31 |\n",
      "|R2L9XWD03072NI|27138575   |B00WJOATDS|375070208     |2015-08-31 |\n",
      "|R2K0U91HIACANO|11838771   |B00BOM2JNY|639666785     |2015-08-31 |\n",
      "|R29SP6MBT7MXG7|535800     |B00OD5GAFM|38715442      |2015-08-31 |\n",
      "|R31XREAAMATEPY|23156579   |B00CAHDC1K|57088652      |2015-08-31 |\n",
      "|R2116AVB87SO38|48107879   |B004NLHXLG|114125984     |2015-08-31 |\n",
      "|R3RDVBB6O0X3HW|27260960   |B00L7OANWI|883962979     |2015-08-31 |\n",
      "|R3LW5T149LKKQM|39537314   |B0085PPSIQ|691479969     |2015-08-31 |\n",
      "+--------------+-----------+----------+--------------+-----------+\n",
      "only showing top 20 rows\n",
      "\n"
     ]
    }
   ],
   "source": [
    "# DataFrame for table of \"review_id_table\"\n",
    "review_id_table = df.select(\"review_id\", \"customer_id\", \"product_id\", \"product_parent\", \"review_date\")\n",
    "\n",
    "# View \"review_id_table\"\n",
    "review_id_table.show(truncate=False)"
   ]
  },
  {
   "cell_type": "code",
   "execution_count": 7,
   "metadata": {},
   "outputs": [
    {
     "name": "stdout",
     "output_type": "stream",
     "text": [
      "root\n",
      " |-- review_id: string (nullable = true)\n",
      " |-- customer_id: integer (nullable = true)\n",
      " |-- product_id: string (nullable = true)\n",
      " |-- product_parent: integer (nullable = true)\n",
      " |-- review_date: date (nullable = true)\n",
      "\n"
     ]
    }
   ],
   "source": [
    "# Check the data type of \"review_id_table\"\n",
    "review_id_table.printSchema()"
   ]
  },
  {
   "cell_type": "code",
   "execution_count": null,
   "metadata": {},
   "outputs": [],
   "source": [
    "# Save \"review_id_table\" to Amazon RDS\n",
    "review_id_table.write.format('jdbc').options(\n",
    "      url='jdbc:mysql://koudash-mysql.cebj4fqgco4p.us-west-1.rds.amazonaws.com:3306/amzn_review_sports',\n",
    "      driver='com.mysql.jdbc.Driver',\n",
    "      dbtable='review_id_table',\n",
    "      user='foo',\n",
    "      password='bar').mode('append').save()"
   ]
  },
  {
   "cell_type": "markdown",
   "metadata": {},
   "source": [
    "#### <font color=\"sky blue\">\"products\"</font>"
   ]
  },
  {
   "cell_type": "code",
   "execution_count": 8,
   "metadata": {},
   "outputs": [
    {
     "name": "stdout",
     "output_type": "stream",
     "text": [
      "+----------+--------------------------------------------------------------------------------------------------------------------+\n",
      "|product_id|product_title                                                                                                       |\n",
      "+----------+--------------------------------------------------------------------------------------------------------------------+\n",
      "|B012P7UPSM|Chicago Blackhawks Adult Cuff Knit Beanie w/ Pom One Size Fits All NHL Authentic Hat Cap - OSFA                     |\n",
      "|B001GQ3VHG|Copag Poker Size Regular Index 1546 Playing Cards 2 decks (Black Gold Setup)                                        |\n",
      "|B008VS8M58|Baoer 223 5.56x45mm Caliber Cartridge Laser Bore Sighter Boresighter                                                |\n",
      "|B005F06F4U|All Terrain Tackle Jig - Grass Master - June Bug - 3/4oz- 2 Pack                                                    |\n",
      "|B010T4IE2C|Swim Cap - 3 Pack (Blue, Black & Red)                                                                               |\n",
      "|B004RKJGLS|adidas Men's Sport Performance Climalite Boxer Brief, Two-Pack                                                      |\n",
      "|B005V3DCBU|Nike Men's Performance Cotton Cushioned Crew Socks                                                                  |\n",
      "|B00MHT9WN8|Green Bay Packers NFL Team Apparel Women's Forward Progress Shirt Plus Sizes                                        |\n",
      "|B001CSIRQ8|Isokinetics Inc. Adjustable Balance Board - 16.5\" Round - 2 Levels of Difficulty - For Exercise and Physical Therapy|\n",
      "|B001KZ3NOO|Aottop Quality Electronic Digital Vernier Caliper                                                                   |\n",
      "|B00005RCQS|Everlast 2'x6' Folding Mat                                                                                          |\n",
      "|B00FA7RWVI|OGIO Men's Shredder Stand Bag                                                                                       |\n",
      "|B000MMH2HU|Blue Sea Systems A-Series Double Blank Mounting Panel                                                               |\n",
      "|B00WJOATDS|Zengi AR15 45 Degree Offset Front and Rear Flip up Iron Sights, Back-up Iron Sights B.I.U.S                         |\n",
      "|B00BOM2JNY|Black Mountain Products Static Strength Exercise Stability Ball with Pump, 2000 lb/55cm, Blue                       |\n",
      "|B00OD5GAFM|Trijicon VCOG 1-6x24 Riflescope Ballistic Reticle                                                                   |\n",
      "|B00CAHDC1K|Naruto Headband for Ninja Shinobi - Sand Village (Sunagakure)                                                       |\n",
      "|B004NLHXLG|Under Armour Men's Resistor Low-Cut Socks (6 Pack)                                                                  |\n",
      "|B00L7OANWI|Yes4All Deep Tissue Massage AccuPoint Roller (Clearance Sale)                                                       |\n",
      "|B0085PPSIQ|Lansky PS-MED01 BladeMedic                                                                                          |\n",
      "+----------+--------------------------------------------------------------------------------------------------------------------+\n",
      "only showing top 20 rows\n",
      "\n"
     ]
    }
   ],
   "source": [
    "# DataFrame for table of \"products\"\n",
    "products = df.select(\"product_id\", \"product_title\")\n",
    "\n",
    "# View \"productsf\"\n",
    "products.show(truncate=False)"
   ]
  },
  {
   "cell_type": "code",
   "execution_count": 9,
   "metadata": {},
   "outputs": [
    {
     "name": "stdout",
     "output_type": "stream",
     "text": [
      "root\n",
      " |-- product_id: string (nullable = true)\n",
      " |-- product_title: string (nullable = true)\n",
      "\n"
     ]
    }
   ],
   "source": [
    "# Check the data type of \"products_df\"\n",
    "products.printSchema()"
   ]
  },
  {
   "cell_type": "code",
   "execution_count": null,
   "metadata": {},
   "outputs": [],
   "source": [
    "# Save \"products\" to Amazon RDS\n",
    "products.write.format('jdbc').options(\n",
    "      url='jdbc:mysql://koudash-mysql.cebj4fqgco4p.us-west-1.rds.amazonaws.com:3306/amzn_review_sports',\n",
    "      driver='com.mysql.jdbc.Driver',\n",
    "      dbtable='products',\n",
    "      user='foo',\n",
    "      password='bar').mode('append').save()"
   ]
  },
  {
   "cell_type": "markdown",
   "metadata": {},
   "source": [
    "#### <font color=\"sky blue\">\"customers\"</font>"
   ]
  },
  {
   "cell_type": "code",
   "execution_count": 10,
   "metadata": {},
   "outputs": [
    {
     "name": "stdout",
     "output_type": "stream",
     "text": [
      "+-----------+\n",
      "|customer_id|\n",
      "+-----------+\n",
      "|48945260   |\n",
      "|5782091    |\n",
      "|45813853   |\n",
      "|1593730    |\n",
      "|29605511   |\n",
      "|11112959   |\n",
      "|108031     |\n",
      "|13981540   |\n",
      "|37993909   |\n",
      "|26040213   |\n",
      "|34657602   |\n",
      "|14346192   |\n",
      "|38782687   |\n",
      "|27138575   |\n",
      "|11838771   |\n",
      "|535800     |\n",
      "|23156579   |\n",
      "|48107879   |\n",
      "|27260960   |\n",
      "|39537314   |\n",
      "+-----------+\n",
      "only showing top 20 rows\n",
      "\n"
     ]
    }
   ],
   "source": [
    "# DataFrame for table of \"customers\"\n",
    "customers = df.select(\"customer_id\")\n",
    "\n",
    "# View \"customers\"\n",
    "customers.show(truncate=False)"
   ]
  },
  {
   "cell_type": "code",
   "execution_count": 11,
   "metadata": {},
   "outputs": [
    {
     "name": "stdout",
     "output_type": "stream",
     "text": [
      "+-----------+--------------+\n",
      "|customer_id|customer_count|\n",
      "+-----------+--------------+\n",
      "|   50820654|           552|\n",
      "|   37651511|           294|\n",
      "|   26955164|           272|\n",
      "|   50227539|           257|\n",
      "|   52870270|           245|\n",
      "|   25355517|           225|\n",
      "|   13355404|           193|\n",
      "|   46160224|           177|\n",
      "|   26772822|           172|\n",
      "|   52770861|           170|\n",
      "|   49335121|           162|\n",
      "|    1871743|           154|\n",
      "|   25436988|           144|\n",
      "|   20032310|           143|\n",
      "|   19512365|           142|\n",
      "|   51354368|           140|\n",
      "|   18453567|           138|\n",
      "|   29505740|           136|\n",
      "|   36579538|           136|\n",
      "|   26502328|           132|\n",
      "+-----------+--------------+\n",
      "only showing top 20 rows\n",
      "\n"
     ]
    }
   ],
   "source": [
    "# Import functions\n",
    "import pyspark.sql.functions as func\n",
    "\n",
    "# Count customer id and create new column called \"customer_count\" to store such data\n",
    "customers = customers.groupby(\"customer_id\").count().withColumnRenamed(\"count\", \"customer_count\").sort(func.col(\"count\").desc())\n",
    "\n",
    "# View \"customers\"\n",
    "customers.show()"
   ]
  },
  {
   "cell_type": "code",
   "execution_count": 12,
   "metadata": {},
   "outputs": [
    {
     "name": "stdout",
     "output_type": "stream",
     "text": [
      "root\n",
      " |-- customer_id: integer (nullable = true)\n",
      " |-- customer_count: long (nullable = false)\n",
      "\n"
     ]
    }
   ],
   "source": [
    "# Check the data type of \"customers\"\n",
    "customers.printSchema()"
   ]
  },
  {
   "cell_type": "code",
   "execution_count": 13,
   "metadata": {},
   "outputs": [
    {
     "name": "stdout",
     "output_type": "stream",
     "text": [
      "+-----------+--------------+\n",
      "|customer_id|customer_count|\n",
      "+-----------+--------------+\n",
      "|   50820654|           552|\n",
      "|   37651511|           294|\n",
      "|   26955164|           272|\n",
      "|   50227539|           257|\n",
      "|   52870270|           245|\n",
      "|   25355517|           225|\n",
      "|   13355404|           193|\n",
      "|   46160224|           177|\n",
      "|   26772822|           172|\n",
      "|   52770861|           170|\n",
      "|   49335121|           162|\n",
      "|    1871743|           154|\n",
      "|   25436988|           144|\n",
      "|   20032310|           143|\n",
      "|   19512365|           142|\n",
      "|   51354368|           140|\n",
      "|   18453567|           138|\n",
      "|   29505740|           136|\n",
      "|   36579538|           136|\n",
      "|   26502328|           132|\n",
      "+-----------+--------------+\n",
      "only showing top 20 rows\n",
      "\n"
     ]
    }
   ],
   "source": [
    "# Change the datatype of \"customer_count\" column from Long to Integer\n",
    "customers = customers.withColumn(\"customer_count\", customers[\"customer_count\"].cast(\"Integer\"))\n",
    "\n",
    "# View \"customers\"\n",
    "customers.show()"
   ]
  },
  {
   "cell_type": "code",
   "execution_count": 14,
   "metadata": {},
   "outputs": [
    {
     "name": "stdout",
     "output_type": "stream",
     "text": [
      "root\n",
      " |-- customer_id: integer (nullable = true)\n",
      " |-- customer_count: integer (nullable = false)\n",
      "\n"
     ]
    }
   ],
   "source": [
    "# Check the data type of \"customers\"\n",
    "customers.printSchema()"
   ]
  },
  {
   "cell_type": "code",
   "execution_count": null,
   "metadata": {},
   "outputs": [],
   "source": [
    "# Save \"customers\" to Amazon RDS\n",
    "customers.write.format('jdbc').options(\n",
    "      url='jdbc:mysql://koudash-mysql.cebj4fqgco4p.us-west-1.rds.amazonaws.com:3306/amzn_review_sports',\n",
    "      driver='com.mysql.jdbc.Driver',\n",
    "      dbtable='customers',\n",
    "      user='foo',\n",
    "      password='bar').mode('append').save()"
   ]
  },
  {
   "cell_type": "markdown",
   "metadata": {},
   "source": [
    "#### <font color=\"sky blue\">\"vine_table\"</font>"
   ]
  },
  {
   "cell_type": "code",
   "execution_count": 15,
   "metadata": {},
   "outputs": [
    {
     "name": "stdout",
     "output_type": "stream",
     "text": [
      "+--------------+-----------+-------------+-----------+----+\n",
      "|review_id     |star_rating|helpful_votes|total_votes|vine|\n",
      "+--------------+-----------+-------------+-----------+----+\n",
      "|R1WBPB8MDCCN8F|5          |0            |0          |N   |\n",
      "|R32M0YEWV77XG8|5          |1            |1          |N   |\n",
      "|RR8V7WR27NXJ5 |1          |0            |0          |N   |\n",
      "|R1MHO5V9Z932AY|5          |0            |0          |N   |\n",
      "|R16PD71086BD2V|5          |0            |1          |N   |\n",
      "|R1Z8IFGWTRWXT6|3          |0            |0          |N   |\n",
      "|R3AUMSHAW73HWN|4          |2            |3          |N   |\n",
      "|R2KWDWFOHGX6FL|5          |0            |0          |N   |\n",
      "|R3H9543FWBWFBU|5          |1            |1          |N   |\n",
      "|RUANXOQ9W3OU5 |5          |0            |0          |N   |\n",
      "|R31673RTGEZSW7|5          |2            |2          |N   |\n",
      "|R22OQLFSH42RCM|5          |1            |1          |N   |\n",
      "|R12LEL4F3TSZUJ|5          |2            |2          |N   |\n",
      "|R2L9XWD03072NI|5          |1            |2          |N   |\n",
      "|R2K0U91HIACANO|5          |0            |0          |N   |\n",
      "|R29SP6MBT7MXG7|4          |3            |3          |N   |\n",
      "|R31XREAAMATEPY|5          |0            |0          |N   |\n",
      "|R2116AVB87SO38|5          |0            |0          |N   |\n",
      "|R3RDVBB6O0X3HW|5          |0            |0          |N   |\n",
      "|R3LW5T149LKKQM|4          |0            |0          |N   |\n",
      "+--------------+-----------+-------------+-----------+----+\n",
      "only showing top 20 rows\n",
      "\n"
     ]
    }
   ],
   "source": [
    "# DataFrame for table of vine_table\"\n",
    "vine_table = df.select(\"review_id\", \"star_rating\", \"helpful_votes\", \"total_votes\", \"vine\")\n",
    "\n",
    "# View \"vine_table\"\n",
    "vine_table.show(truncate=False)\n"
   ]
  },
  {
   "cell_type": "code",
   "execution_count": 16,
   "metadata": {},
   "outputs": [
    {
     "name": "stdout",
     "output_type": "stream",
     "text": [
      "root\n",
      " |-- review_id: string (nullable = true)\n",
      " |-- star_rating: integer (nullable = true)\n",
      " |-- helpful_votes: integer (nullable = true)\n",
      " |-- total_votes: integer (nullable = true)\n",
      " |-- vine: string (nullable = true)\n",
      "\n"
     ]
    }
   ],
   "source": [
    "# Check the data type of \"vine_table\"\n",
    "vine_table.printSchema()"
   ]
  },
  {
   "cell_type": "code",
   "execution_count": null,
   "metadata": {},
   "outputs": [],
   "source": [
    "# Save \"vine_table\" to Amazon RDS\n",
    "vine_table.write.format('jdbc').options(\n",
    "      url='jdbc:mysql://koudash-mysql.cebj4fqgco4p.us-west-1.rds.amazonaws.com:3306/amzn_review_sports',\n",
    "      driver='com.mysql.jdbc.Driver',\n",
    "      dbtable='vine_table',\n",
    "      user='foo',\n",
    "      password='bar').mode('append').save()"
   ]
  },
  {
   "cell_type": "markdown",
   "metadata": {},
   "source": [
    "## Data Analysis"
   ]
  },
  {
   "cell_type": "markdown",
   "metadata": {},
   "source": [
    "#### <font color=\"sky blue\">Average of helpful/total votes per star rating</font>"
   ]
  },
  {
   "cell_type": "code",
   "execution_count": 20,
   "metadata": {},
   "outputs": [
    {
     "data": {
      "text/plain": [
       "[Row(star_rating=None, avg(helpful_votes)=None),\n",
       " Row(star_rating=1, avg(helpful_votes)=2.511137744348473),\n",
       " Row(star_rating=3, avg(helpful_votes)=1.6627503857142483),\n",
       " Row(star_rating=5, avg(helpful_votes)=1.290121113640251),\n",
       " Row(star_rating=4, avg(helpful_votes)=1.5191941768460306),\n",
       " Row(star_rating=2, avg(helpful_votes)=1.787343317419833)]"
      ]
     },
     "execution_count": 20,
     "metadata": {},
     "output_type": "execute_result"
    }
   ],
   "source": [
    "# Calculate average of helpful votes for each star rating\n",
    "helpful_votes_per_star_rating = vine_table.groupBy(\"star_rating\").avg(\"helpful_votes\").collect()\n",
    "\n",
    "# View \"helpful_votes_per_star_rating\"\n",
    "helpful_votes_per_star_rating"
   ]
  },
  {
   "cell_type": "code",
   "execution_count": 18,
   "metadata": {},
   "outputs": [
    {
     "data": {
      "text/plain": [
       "[Row(star_rating=None, avg(total_votes)=None),\n",
       " Row(star_rating=1, avg(total_votes)=3.9916656334807343),\n",
       " Row(star_rating=3, avg(total_votes)=2.259851812134163),\n",
       " Row(star_rating=5, avg(total_votes)=1.5243937739299764),\n",
       " Row(star_rating=4, avg(total_votes)=1.823510147491215),\n",
       " Row(star_rating=2, avg(total_votes)=2.6274845769842825)]"
      ]
     },
     "execution_count": 18,
     "metadata": {},
     "output_type": "execute_result"
    }
   ],
   "source": [
    "# Calculate average of total votes for each star rating\n",
    "total_votes_per_star_rating = vine_table.groupBy(\"star_rating\").avg(\"total_votes\").collect()\n",
    "\n",
    "# View \"total_votes_per_star_rating\"\n",
    "total_votes_per_star_rating"
   ]
  },
  {
   "cell_type": "code",
   "execution_count": 19,
   "metadata": {},
   "outputs": [
    {
     "name": "stdout",
     "output_type": "stream",
     "text": [
      "Star rating: [1, 2, 3, 4, 5]\n",
      "Helpful votes (avg.): [2.511137744348473, 1.787343317419833, 1.6627503857142483, 1.5191941768460306, 1.290121113640251]\n",
      "Toatl votes (avg.): [3.9916656334807343, 2.6274845769842825, 2.259851812134163, 1.823510147491215, 1.5243937739299764]\n"
     ]
    }
   ],
   "source": [
    "# List for helpful/total votes (avg.) and star ratings\n",
    "x_im = []\n",
    "y1_im = []\n",
    "y2_im = []\n",
    "x_axis = []\n",
    "y1_axis = []\n",
    "y2_axis = []\n",
    "\n",
    "# Temporarily store helpful/total votes (avg.) and star ratings\n",
    "[x_im.append(row[0]) for row in helpful_votes_per_star_rating if row[0] != None]\n",
    "[y1_im.append(row[1]) for row in helpful_votes_per_star_rating if row[0] != None]\n",
    "[y2_im.append(row[1]) for row in total_votes_per_star_rating if row[0] != None]\n",
    "# Adjust the order for plotting\n",
    "[x_axis.append(x_im[i]) for i in [0, 4, 1, 3, 2]]\n",
    "[y1_axis.append(y1_im[i]) for i in [0, 4, 1, 3, 2]]\n",
    "[y2_axis.append(y2_im[i]) for i in [0, 4, 1, 3, 2]]\n",
    "\n",
    "# Print helpful/total votes (avg.) and star ratings (as x- and y-axes)\n",
    "print(f\"Star rating: {x_axis}\")\n",
    "print(f\"Helpful votes (avg.): {y1_axis}\")\n",
    "print(f\"Toatl votes (avg.): {y2_axis}\")"
   ]
  },
  {
   "cell_type": "code",
   "execution_count": 21,
   "metadata": {},
   "outputs": [
    {
     "data": {
      "text/plain": [
       "<Figure size 640x480 with 1 Axes>"
      ]
     },
     "metadata": {},
     "output_type": "display_data"
    }
   ],
   "source": [
    "import matplotlib.pyplot as plt\n",
    "\n",
    "# Line-scatter plot\n",
    "plt.plot(x_axis, y1_axis, '-o', c='r', label=\"Helpful votes (avg)\")\n",
    "plt.plot(x_axis, y2_axis, '-x', c='b', label=\"Total votes (avg)\")\n",
    "\n",
    "# Create title\n",
    "plt.title(\"Average of Helpful/Total Votes per Star Rating\")\n",
    "\n",
    "# Create labels for x and y axes\n",
    "plt.xlabel(\"Star rating\")\n",
    "plt.ylabel(\"Counts\")\n",
    "\n",
    "# Create x-ticks\n",
    "plt.xticks(x_axis)\n",
    "\n",
    "# Create legend\n",
    "plt.legend(loc=\"best\")\n",
    "\n",
    "# Save figure\n",
    "plt.savefig(\"../figures/SPORTS_avg_helpful_or_total_votes_per_star_rating.png\", bbox_inches='tight', dpi=300)\n",
    "\n",
    "plt.show()"
   ]
  },
  {
   "cell_type": "markdown",
   "metadata": {},
   "source": [
    "###### It can be told from the above plot that counts for both total and helpful votes are negatively correlated with the star rating."
   ]
  },
  {
   "cell_type": "markdown",
   "metadata": {},
   "source": [
    "#### <font color=\"sky blue\">Helpful votes study subgrouped by total votes</font>"
   ]
  },
  {
   "cell_type": "code",
   "execution_count": 22,
   "metadata": {},
   "outputs": [
    {
     "name": "stdout",
     "output_type": "stream",
     "text": [
      "+-------+-----------------+-----------------+\n",
      "|summary|    helpful_votes|      total_votes|\n",
      "+-------+-----------------+-----------------+\n",
      "|   mean|1.473776296957066|1.870526478365164|\n",
      "|    25%|                0|                0|\n",
      "|    75%|                1|                1|\n",
      "+-------+-----------------+-----------------+\n",
      "\n"
     ]
    }
   ],
   "source": [
    "# Look at the \"mean\" (not \"median\"), \"25%\" and \"75%\" of \"helpful_votes\" and \"total_votes\" columns from \"vine_table\"\n",
    "vine_table.select(\"helpful_votes\", \"total_votes\").summary(\"mean\", \"25%\", \"75%\").show()"
   ]
  },
  {
   "cell_type": "code",
   "execution_count": 23,
   "metadata": {},
   "outputs": [],
   "source": [
    "# Dictionary to hold \"total_votes\"-subgrouped \"vine_table\"\n",
    "vine_tv_dict = {0 : \"\", 1 : \"\", 2 : \"\", 3 : \"\"}\n",
    "\n",
    "# Subgroup \"vin_table\" by counts of \"total_votes\"\n",
    "for i in range(4):\n",
    "    if i != 3:\n",
    "        vine_tv_dict[i] = vine_table.filter(vine_table[\"total_votes\"] == i).select(\"review_id\", \"helpful_votes\", \"vine\")\n",
    "    else:\n",
    "        vine_tv_dict[i] = vine_table.filter(vine_table[\"total_votes\"] >= i).select(\"review_id\", \"helpful_votes\", \"vine\")"
   ]
  },
  {
   "cell_type": "code",
   "execution_count": 24,
   "metadata": {
    "scrolled": true
   },
   "outputs": [
    {
     "name": "stdout",
     "output_type": "stream",
     "text": [
      "0\n",
      "1\n",
      "2\n",
      "3\n",
      "Average helpful votes from vine population: [0.0, 0.5359382537385432, 1.1504571903574397, 12.803189257238774]\n",
      "Average helpful votes not from vine population: [0.0, 0.6715251897517895, 1.3828716365741003, 8.683120766922679]\n"
     ]
    }
   ],
   "source": [
    "# Lists to hold average helpful votes subgrouped by total votes\n",
    "vt_helpful_avg_list = []\n",
    "vf_helpful_avg_list = []\n",
    "\n",
    "for i in range(4):\n",
    "    \n",
    "    # Divide \"vine_table\" into two based on the value of \"vine\" \n",
    "    vine_true = vine_tv_dict[i].filter(vine_tv_dict[i][\"vine\"] == \"Y\").select(\"review_id\", \"helpful_votes\")\n",
    "    vine_false = vine_tv_dict[i].filter(vine_tv_dict[i][\"vine\"] == \"N\").select(\"review_id\", \"helpful_votes\")\n",
    "    \n",
    "    # Calculate average helpful votes and appended them to the above lists\n",
    "    vt_helpful_avg_list.append(vine_true.select(func.avg(\"helpful_votes\")).collect()[0][0])\n",
    "    vf_helpful_avg_list.append(vine_false.select(func.avg(\"helpful_votes\")).collect()[0][0])\n",
    "    \n",
    "    print(i)\n",
    "    \n",
    "# Print results\n",
    "print(f\"Average helpful votes from vine population: {vt_helpful_avg_list}\")\n",
    "print(f\"Average helpful votes not from vine population: {vf_helpful_avg_list}\")"
   ]
  },
  {
   "cell_type": "code",
   "execution_count": 25,
   "metadata": {},
   "outputs": [
    {
     "data": {
      "image/png": "[encoded data removed]",
      "text/plain": [
       "<Figure size 432x288 with 1 Axes>"
      ]
     },
     "metadata": {
      "needs_background": "light"
     },
     "output_type": "display_data"
    }
   ],
   "source": [
    "# Line-scatter plot\n",
    "plt.plot(list(range(4)), vt_helpful_avg_list, '-o', c='r', label='vine=\"Y\"')\n",
    "plt.plot(list(range(4)), vf_helpful_avg_list, '-x', c='b', label='vine=\"N\"')\n",
    "\n",
    "# Create title\n",
    "plt.title(\"Average of Helpful Votes in Subgroups Categorized by Total Votes\")\n",
    "\n",
    "# Create labels for x and y axes\n",
    "plt.xlabel(\"Total Votes\")\n",
    "plt.ylabel(\"Counts\")\n",
    "\n",
    "# Create x-ticks\n",
    "plt.xticks(list(range(4)), [\"0\", \"1\", \"2\", \">=3\"])\n",
    "\n",
    "# Create legend\n",
    "plt.legend(loc=\"best\")\n",
    "\n",
    "# Save figure\n",
    "plt.savefig(\"../figures/SPORTS_avg_helpful_votes_by_total_votes.png\", bbox_inches='tight', dpi=300)\n",
    "\n",
    "plt.show()"
   ]
  },
  {
   "cell_type": "markdown",
   "metadata": {},
   "source": [
    "###### The average of helpful votes from vine customers does not outweigh over those from non vine customers in that the total votes are not greater than two. Only when going beyond that range are reviews from vine costomers more helpful."
   ]
  },
  {
   "cell_type": "code",
   "execution_count": null,
   "metadata": {},
   "outputs": [],
   "source": []
  }
 ],
 "metadata": {
  "kernelspec": {
   "display_name": "Python 3",
   "language": "python",
   "name": "python3"
  },
  "language_info": {
   "codemirror_mode": {
    "name": "ipython",
    "version": 3
   },
   "file_extension": ".py",
   "mimetype": "text/x-python",
   "name": "python",
   "nbconvert_exporter": "python",
   "pygments_lexer": "ipython3",
   "version": "3.7.1"
  }
 },
 "nbformat": 4,
 "nbformat_minor": 2
}
