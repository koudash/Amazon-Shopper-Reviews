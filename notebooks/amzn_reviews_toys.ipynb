{
 "cells": [
  {
   "cell_type": "markdown",
   "metadata": {},
   "source": [
    "## Data Retrieving"
   ]
  },
  {
   "cell_type": "markdown",
   "metadata": {},
   "source": [
    "#### <font color=\"sky blue\">Read Review for Toys from Amazon S3</font>"
   ]
  },
  {
   "cell_type": "code",
   "execution_count": 1,
   "metadata": {},
   "outputs": [],
   "source": [
    "# Import SparkSession\n",
    "from pyspark.sql import SparkSession\n",
    "\n",
    "# CreateSparkSession\n",
    "spark = SparkSession.builder.appName(\"amzn_review_toys\").getOrCreate()"
   ]
  },
  {
   "cell_type": "code",
   "execution_count": 2,
   "metadata": {},
   "outputs": [
    {
     "data": {
      "text/plain": [
       "[StructField(marketplace,StringType,true),\n",
       " StructField(customer_id,IntegerType,true),\n",
       " StructField(review_id,StringType,true),\n",
       " StructField(product_id,StringType,true),\n",
       " StructField(product_parent,IntegerType,true),\n",
       " StructField(product_title,StringType,true),\n",
       " StructField(product_category,StringType,true),\n",
       " StructField(star_rating,IntegerType,true),\n",
       " StructField(helpful_votes,IntegerType,true),\n",
       " StructField(total_votes,IntegerType,true),\n",
       " StructField(vine,StringType,true),\n",
       " StructField(verified_purchase,StringType,true),\n",
       " StructField(review_headline,StringType,true),\n",
       " StructField(review_body,StringType,true),\n",
       " StructField(review_date,DateType,true)]"
      ]
     },
     "execution_count": 2,
     "metadata": {},
     "output_type": "execute_result"
    }
   ],
   "source": [
    "# Import struct fields\n",
    "from pyspark.sql.types import StructField, StringType, IntegerType, DateType, StructType\n",
    "\n",
    "# Lists of struct fields\n",
    "schema = [\\\n",
    "    StructField(\"marketplace\", StringType(), True),\\\n",
    "    StructField(\"customer_id\", IntegerType(), True),\\\n",
    "    StructField(\"review_id\", StringType(), True),\\\n",
    "    StructField(\"product_id\", StringType(), True),\\\n",
    "    StructField(\"product_parent\", IntegerType(), True),\\\n",
    "    StructField(\"product_title\", StringType(), True),\\\n",
    "    StructField(\"product_category\", StringType(), True),\\\n",
    "    StructField(\"star_rating\", IntegerType(), True),\\\n",
    "    StructField(\"helpful_votes\", IntegerType(), True),\\\n",
    "    StructField(\"total_votes\", IntegerType(), True),\\\n",
    "    StructField(\"vine\", StringType(), True),\\\n",
    "    StructField(\"verified_purchase\", StringType(), True),\\\n",
    "    StructField(\"review_headline\", StringType(), True),\\\n",
    "    StructField(\"review_body\", StringType(), True),\\\n",
    "    StructField(\"review_date\", DateType(), True)\\\n",
    "]\n",
    "\n",
    "# View \"schema\"\n",
    "schema"
   ]
  },
  {
   "cell_type": "code",
   "execution_count": 3,
   "metadata": {},
   "outputs": [],
   "source": [
    "# Pass in fields\n",
    "final = StructType(fields=schema)"
   ]
  },
  {
   "cell_type": "code",
   "execution_count": 4,
   "metadata": {},
   "outputs": [
    {
     "name": "stdout",
     "output_type": "stream",
     "text": [
      "+-----------+-----------+--------------+----------+--------------+--------------------+----------------+-----------+-------------+-----------+----+-----------------+--------------------+--------------------+-----------+\n",
      "|marketplace|customer_id|     review_id|product_id|product_parent|       product_title|product_category|star_rating|helpful_votes|total_votes|vine|verified_purchase|     review_headline|         review_body|review_date|\n",
      "+-----------+-----------+--------------+----------+--------------+--------------------+----------------+-----------+-------------+-----------+----+-----------------+--------------------+--------------------+-----------+\n",
      "|         US|   18778586| RDIJS7QYB6XNR|B00EDBY7X8|     122952789|Monopoly Junior B...|            Toys|          5|            0|          0|   N|                Y|          Five Stars|        Excellent!!!| 2015-08-31|\n",
      "|         US|   24769659|R36ED1U38IELG8|B00D7JFOPC|     952062646|56 Pieces of Wood...|            Toys|          5|            0|          0|   N|                Y|Good quality trac...|Great quality woo...| 2015-08-31|\n",
      "|         US|   44331596| R1UE3RPRGCOLD|B002LHA74O|     818126353|Super Jumbo Playi...|            Toys|          2|            1|          1|   N|                Y|           Two Stars|Cards are not as ...| 2015-08-31|\n",
      "|         US|   23310293|R298788GS6I901|B00ARPLCGY|     261944918|Barbie Doll and F...|            Toys|          5|            0|          0|   N|                Y|my daughter loved...|my daughter loved...| 2015-08-31|\n",
      "|         US|   38745832|  RNX4EXOBBPN5|B00UZOPOFW|     717410439|Emazing Lights eL...|            Toys|          1|            1|          1|   N|                Y|     DONT BUY THESE!|Do not buy these!...| 2015-08-31|\n",
      "|         US|   13394189|R3BPETL222LMIM|B009B7F6CA|     873028700|Melissa & Doug Wa...|            Toys|          5|            0|          0|   N|                Y|          Five Stars|Great item. Pictu...| 2015-08-31|\n",
      "|         US|    2749569|R3SORMPJZO3F2J|B0101EHRSM|     723424342|Big Bang Cosmic P...|            Toys|          3|            2|          2|   N|                Y|         Three Stars|To keep together,...| 2015-08-31|\n",
      "|         US|   41137196|R2RDOJQ0WBZCF6|B00407S11Y|     383363775|Fun Express Insec...|            Toys|          5|            0|          0|   N|                Y|          Five Stars|I was pleased wit...| 2015-08-31|\n",
      "|         US|     433677|R2B8VBEPB4YEZ7|B00FGPU7U2|     780517568|Fisher-Price Octo...|            Toys|          5|            0|          0|   N|                Y|          Five Stars|    Children like it| 2015-08-31|\n",
      "|         US|    1297934|R1CB783I7B0U52|B0013OY0S0|     269360126|Claw Climber Goli...|            Toys|          1|            0|          1|   N|                Y|Shame on the sell...|Showed up not how...| 2015-08-31|\n",
      "|         US|   52006292| R2D90RQQ3V8LH|B00519PJTW|     493486387|100 Foot Multicol...|            Toys|          5|            0|          0|   N|                Y|          Five Stars|Really liked thes...| 2015-08-31|\n",
      "|         US|   32071052|R1Y4ZOUGFMJ327|B001TCY2DO|     459122467|Pig Jumbo Foil Ba...|            Toys|          5|            0|          0|   N|                Y|   Nice huge balloon|Nice huge balloon...| 2015-08-31|\n",
      "|         US|    7360347|R2BUV9QJI2A00X|B00DOQCWF8|     226984155|Minecraft Animal ...|            Toys|          5|            0|          1|   N|                Y|          Five Stars|          Great deal| 2015-08-31|\n",
      "|         US|   11613707| RSUHRJFJIRB3Z|B004C04I4I|     375659886|Disney Baby: Eeyo...|            Toys|          4|            0|          0|   N|                Y|          Four Stars|       As Advertised| 2015-08-31|\n",
      "|         US|   13545982|R1T96CG98BBA15|B00NWGEKBY|     933734136|Team Losi 8IGHT-E...|            Toys|          3|            2|          4|   N|                Y|... servo so expe...|Comes w a 15$ ser...| 2015-08-31|\n",
      "|         US|   43880421| R2ATXF4QQ30YW|B00000JS5S|     341842639|Hot Wheels 48- Ca...|            Toys|          5|            0|          0|   N|                Y|          Five Stars|   awesome ! Thanks!| 2015-08-31|\n",
      "|         US|    1662075|R1YS3DS218NNMD|B00XPWXYDK|     210135375|ZuZo 2.4GHz 4 CH ...|            Toys|          5|            4|          4|   N|                N|The closest relev...|I got this item f...| 2015-08-31|\n",
      "|         US|   18461411|R2SDXLTLF92O0H|B00VPXX92W|     705054378|Teenage Mutant Ni...|            Toys|          5|            0|          0|   N|                Y|          Five Stars|It was a birthday...| 2015-08-31|\n",
      "|         US|   27225859| R4R337CCDWLNG|B00YRA3H4U|     223420727|Franklin Sports M...|            Toys|          3|            0|          1|   Y|                N|Got wrong product...|Got a wrong produ...| 2015-08-31|\n",
      "|         US|   20494593|R32Z6UA4S5Q630|B009T8BSQY|     787701676|Alien Frontiers: ...|            Toys|          1|            0|          0|   N|                Y|         Overpriced.|You need expansio...| 2015-08-31|\n",
      "+-----------+-----------+--------------+----------+--------------+--------------------+----------------+-----------+-------------+-----------+----+-----------------+--------------------+--------------------+-----------+\n",
      "only showing top 20 rows\n",
      "\n"
     ]
    }
   ],
   "source": [
    "# Load in data with schema\n",
    "from pyspark import SparkFiles\n",
    "url = \"https://s3.amazonaws.com/amazon-reviews-pds/tsv/amazon_reviews_us_Toys_v1_00.tsv.gz\"\n",
    "spark.sparkContext.addFile(url)\n",
    "df = spark.read.csv(SparkFiles.get(\"amazon_reviews_us_Toys_v1_00.tsv.gz\"), sep=\"\\t\", header=True, schema=final)\n",
    "\n",
    "# View Amazon toy review (us) dataset\n",
    "df.show()"
   ]
  },
  {
   "cell_type": "code",
   "execution_count": 5,
   "metadata": {},
   "outputs": [
    {
     "name": "stdout",
     "output_type": "stream",
     "text": [
      "There are 4864249 records (rows) in Amazon toy review (us) dataset.\n"
     ]
    }
   ],
   "source": [
    "# Count the number of records (rows) in the dataset\n",
    "print(f\"There are {df.count()} records (rows) in Amazon toy review (us) dataset.\")"
   ]
  },
  {
   "cell_type": "markdown",
   "metadata": {},
   "source": [
    "## Table Generation and SQL DB Transferring"
   ]
  },
  {
   "cell_type": "markdown",
   "metadata": {},
   "source": [
    "#### <font color=\"sky blue\">\"review_id_table\"</font>"
   ]
  },
  {
   "cell_type": "code",
   "execution_count": 6,
   "metadata": {},
   "outputs": [
    {
     "name": "stdout",
     "output_type": "stream",
     "text": [
      "+--------------+-----------+----------+--------------+-----------+\n",
      "|review_id     |customer_id|product_id|product_parent|review_date|\n",
      "+--------------+-----------+----------+--------------+-----------+\n",
      "|RDIJS7QYB6XNR |18778586   |B00EDBY7X8|122952789     |2015-08-31 |\n",
      "|R36ED1U38IELG8|24769659   |B00D7JFOPC|952062646     |2015-08-31 |\n",
      "|R1UE3RPRGCOLD |44331596   |B002LHA74O|818126353     |2015-08-31 |\n",
      "|R298788GS6I901|23310293   |B00ARPLCGY|261944918     |2015-08-31 |\n",
      "|RNX4EXOBBPN5  |38745832   |B00UZOPOFW|717410439     |2015-08-31 |\n",
      "|R3BPETL222LMIM|13394189   |B009B7F6CA|873028700     |2015-08-31 |\n",
      "|R3SORMPJZO3F2J|2749569    |B0101EHRSM|723424342     |2015-08-31 |\n",
      "|R2RDOJQ0WBZCF6|41137196   |B00407S11Y|383363775     |2015-08-31 |\n",
      "|R2B8VBEPB4YEZ7|433677     |B00FGPU7U2|780517568     |2015-08-31 |\n",
      "|R1CB783I7B0U52|1297934    |B0013OY0S0|269360126     |2015-08-31 |\n",
      "|R2D90RQQ3V8LH |52006292   |B00519PJTW|493486387     |2015-08-31 |\n",
      "|R1Y4ZOUGFMJ327|32071052   |B001TCY2DO|459122467     |2015-08-31 |\n",
      "|R2BUV9QJI2A00X|7360347    |B00DOQCWF8|226984155     |2015-08-31 |\n",
      "|RSUHRJFJIRB3Z |11613707   |B004C04I4I|375659886     |2015-08-31 |\n",
      "|R1T96CG98BBA15|13545982   |B00NWGEKBY|933734136     |2015-08-31 |\n",
      "|R2ATXF4QQ30YW |43880421   |B00000JS5S|341842639     |2015-08-31 |\n",
      "|R1YS3DS218NNMD|1662075    |B00XPWXYDK|210135375     |2015-08-31 |\n",
      "|R2SDXLTLF92O0H|18461411   |B00VPXX92W|705054378     |2015-08-31 |\n",
      "|R4R337CCDWLNG |27225859   |B00YRA3H4U|223420727     |2015-08-31 |\n",
      "|R32Z6UA4S5Q630|20494593   |B009T8BSQY|787701676     |2015-08-31 |\n",
      "+--------------+-----------+----------+--------------+-----------+\n",
      "only showing top 20 rows\n",
      "\n"
     ]
    }
   ],
   "source": [
    "# DataFrame for table of \"review_id_table\"\n",
    "review_id_table = df.select(\"review_id\", \"customer_id\", \"product_id\", \"product_parent\", \"review_date\")\n",
    "\n",
    "# View \"review_id_table\"\n",
    "review_id_table.show(truncate=False)"
   ]
  },
  {
   "cell_type": "code",
   "execution_count": 7,
   "metadata": {},
   "outputs": [
    {
     "name": "stdout",
     "output_type": "stream",
     "text": [
      "root\n",
      " |-- review_id: string (nullable = true)\n",
      " |-- customer_id: integer (nullable = true)\n",
      " |-- product_id: string (nullable = true)\n",
      " |-- product_parent: integer (nullable = true)\n",
      " |-- review_date: date (nullable = true)\n",
      "\n"
     ]
    }
   ],
   "source": [
    "# Check the data type of \"review_id_table\"\n",
    "review_id_table.printSchema()"
   ]
  },
  {
   "cell_type": "code",
   "execution_count": null,
   "metadata": {},
   "outputs": [],
   "source": [
    "# Save \"review_id_table\" to Amazon RDS\n",
    "review_id_table.write.format('jdbc').options(\n",
    "      url='jdbc:mysql://koudash-mysql.cebj4fqgco4p.us-west-1.rds.amazonaws.com:3306/amzn_review_toys',\n",
    "      driver='com.mysql.jdbc.Driver',\n",
    "      dbtable='review_id_table',\n",
    "      user='foo',\n",
    "      password='bar').mode('append').save()"
   ]
  },
  {
   "cell_type": "markdown",
   "metadata": {},
   "source": [
    "#### <font color=\"sky blue\">\"products\"</font>"
   ]
  },
  {
   "cell_type": "code",
   "execution_count": 8,
   "metadata": {},
   "outputs": [
    {
     "name": "stdout",
     "output_type": "stream",
     "text": [
      "+----------+----------------------------------------------------------------------------------------+\n",
      "|product_id|product_title                                                                           |\n",
      "+----------+----------------------------------------------------------------------------------------+\n",
      "|B00EDBY7X8|Monopoly Junior Board Game                                                              |\n",
      "|B00D7JFOPC|56 Pieces of Wooden Train Track Compatible with All Major Train Brands                  |\n",
      "|B002LHA74O|Super Jumbo Playing Cards by S&S Worldwide                                              |\n",
      "|B00ARPLCGY|Barbie Doll and Fashions Barbie Gift Set                                                |\n",
      "|B00UZOPOFW|Emazing Lights eLite Flow Glow Sticks - Spinning Light LED Toy                          |\n",
      "|B009B7F6CA|Melissa & Doug Water Wow Coloring Book - Vehicles                                       |\n",
      "|B0101EHRSM|Big Bang Cosmic Pegasus (Pegasis) Metal 4D High Performance Generic Battling Top BB-105 |\n",
      "|B00407S11Y|Fun Express Insect Finger Puppets 12ct Toy                                              |\n",
      "|B00FGPU7U2|Fisher-Price Octonauts Shellington's On-The-Go Pod Toy                                  |\n",
      "|B0013OY0S0|Claw Climber Goliath/ Disney's Gargoyles                                                |\n",
      "|B00519PJTW|100 Foot Multicolor Pennant Banner                                                      |\n",
      "|B001TCY2DO|Pig Jumbo Foil Balloon                                                                  |\n",
      "|B00DOQCWF8|Minecraft Animal Toy (6-Pack)                                                           |\n",
      "|B004C04I4I|Disney Baby: Eeyore Large Plush                                                         |\n",
      "|B00NWGEKBY|Team Losi 8IGHT-E RTR AVC Electric 4WD Buggy Vehicle (1/8 Scale)                        |\n",
      "|B00000JS5S|Hot Wheels 48- Car storage Case With Easy Grip Carrying Case                            |\n",
      "|B00XPWXYDK|ZuZo 2.4GHz 4 CH 6 Axis Gyro RC Quadcopter Drone with Camera & LED Lights, 38 x 38 x 7cm|\n",
      "|B00VPXX92W|Teenage Mutant Ninja Turtles T-Machines Tiger Claw in Safari Truck Diecast Vehicle      |\n",
      "|B00YRA3H4U|Franklin Sports MLB Fold Away Batting Tee                                               |\n",
      "|B009T8BSQY|Alien Frontiers: Factions                                                               |\n",
      "+----------+----------------------------------------------------------------------------------------+\n",
      "only showing top 20 rows\n",
      "\n"
     ]
    }
   ],
   "source": [
    "# DataFrame for table of \"products\"\n",
    "products = df.select(\"product_id\", \"product_title\")\n",
    "\n",
    "# View \"productsf\"\n",
    "products.show(truncate=False)"
   ]
  },
  {
   "cell_type": "code",
   "execution_count": 9,
   "metadata": {},
   "outputs": [
    {
     "name": "stdout",
     "output_type": "stream",
     "text": [
      "root\n",
      " |-- product_id: string (nullable = true)\n",
      " |-- product_title: string (nullable = true)\n",
      "\n"
     ]
    }
   ],
   "source": [
    "# Check the data type of \"products_df\"\n",
    "products.printSchema()"
   ]
  },
  {
   "cell_type": "code",
   "execution_count": null,
   "metadata": {},
   "outputs": [],
   "source": [
    "# Save \"products\" to Amazon RDS\n",
    "products.write.format('jdbc').options(\n",
    "      url='jdbc:mysql://koudash-mysql.cebj4fqgco4p.us-west-1.rds.amazonaws.com:3306/amzn_review_toys',\n",
    "      driver='com.mysql.jdbc.Driver',\n",
    "      dbtable='products',\n",
    "      user='foo',\n",
    "      password='bar').mode('append').save()"
   ]
  },
  {
   "cell_type": "markdown",
   "metadata": {},
   "source": [
    "#### <font color=\"sky blue\">\"customers\"</font>"
   ]
  },
  {
   "cell_type": "code",
   "execution_count": 10,
   "metadata": {},
   "outputs": [
    {
     "name": "stdout",
     "output_type": "stream",
     "text": [
      "+-----------+\n",
      "|customer_id|\n",
      "+-----------+\n",
      "|18778586   |\n",
      "|24769659   |\n",
      "|44331596   |\n",
      "|23310293   |\n",
      "|38745832   |\n",
      "|13394189   |\n",
      "|2749569    |\n",
      "|41137196   |\n",
      "|433677     |\n",
      "|1297934    |\n",
      "|52006292   |\n",
      "|32071052   |\n",
      "|7360347    |\n",
      "|11613707   |\n",
      "|13545982   |\n",
      "|43880421   |\n",
      "|1662075    |\n",
      "|18461411   |\n",
      "|27225859   |\n",
      "|20494593   |\n",
      "+-----------+\n",
      "only showing top 20 rows\n",
      "\n"
     ]
    }
   ],
   "source": [
    "# DataFrame for table of \"customers\"\n",
    "customers = df.select(\"customer_id\")\n",
    "\n",
    "# View \"customers\"\n",
    "customers.show(truncate=False)"
   ]
  },
  {
   "cell_type": "code",
   "execution_count": 11,
   "metadata": {},
   "outputs": [
    {
     "name": "stdout",
     "output_type": "stream",
     "text": [
      "+-----------+--------------+\n",
      "|customer_id|customer_count|\n",
      "+-----------+--------------+\n",
      "|   51591392|          1761|\n",
      "|   49944666|           918|\n",
      "|   16404530|           858|\n",
      "|   22788662|           829|\n",
      "|   52916805|           584|\n",
      "|    7080939|           583|\n",
      "|   25968347|           503|\n",
      "|   15336438|           473|\n",
      "|   48987445|           413|\n",
      "|   41694086|           385|\n",
      "|   45035978|           372|\n",
      "|   31612235|           356|\n",
      "|   45450659|           355|\n",
      "|   10526256|           344|\n",
      "|   20777467|           332|\n",
      "|   28845187|           332|\n",
      "|   43856165|           327|\n",
      "|   15374732|           327|\n",
      "|   42700429|           304|\n",
      "|   50052806|           303|\n",
      "+-----------+--------------+\n",
      "only showing top 20 rows\n",
      "\n"
     ]
    }
   ],
   "source": [
    "# Import functions\n",
    "import pyspark.sql.functions as func\n",
    "\n",
    "# Count customer id and create new column called \"customer_count\" to store such data\n",
    "customers = customers.groupby(\"customer_id\").count().withColumnRenamed(\"count\", \"customer_count\").sort(func.col(\"count\").desc())\n",
    "\n",
    "# View \"customers\"\n",
    "customers.show()"
   ]
  },
  {
   "cell_type": "code",
   "execution_count": 12,
   "metadata": {},
   "outputs": [
    {
     "name": "stdout",
     "output_type": "stream",
     "text": [
      "root\n",
      " |-- customer_id: integer (nullable = true)\n",
      " |-- customer_count: long (nullable = false)\n",
      "\n"
     ]
    }
   ],
   "source": [
    "# Check the data type of \"customers\"\n",
    "customers.printSchema()"
   ]
  },
  {
   "cell_type": "code",
   "execution_count": 13,
   "metadata": {},
   "outputs": [
    {
     "name": "stdout",
     "output_type": "stream",
     "text": [
      "+-----------+--------------+\n",
      "|customer_id|customer_count|\n",
      "+-----------+--------------+\n",
      "|   51591392|          1761|\n",
      "|   49944666|           918|\n",
      "|   16404530|           858|\n",
      "|   22788662|           829|\n",
      "|   52916805|           584|\n",
      "|    7080939|           583|\n",
      "|   25968347|           503|\n",
      "|   15336438|           473|\n",
      "|   48987445|           413|\n",
      "|   41694086|           385|\n",
      "|   45035978|           372|\n",
      "|   31612235|           356|\n",
      "|   45450659|           355|\n",
      "|   10526256|           344|\n",
      "|   20777467|           332|\n",
      "|   28845187|           332|\n",
      "|   43856165|           327|\n",
      "|   15374732|           327|\n",
      "|   42700429|           304|\n",
      "|   50052806|           303|\n",
      "+-----------+--------------+\n",
      "only showing top 20 rows\n",
      "\n"
     ]
    }
   ],
   "source": [
    "# Change the datatype of \"customer_count\" column from Long to Integer\n",
    "customers = customers.withColumn(\"customer_count\", customers[\"customer_count\"].cast(\"Integer\"))\n",
    "\n",
    "# View \"customers\"\n",
    "customers.show()"
   ]
  },
  {
   "cell_type": "code",
   "execution_count": 14,
   "metadata": {},
   "outputs": [
    {
     "name": "stdout",
     "output_type": "stream",
     "text": [
      "root\n",
      " |-- customer_id: integer (nullable = true)\n",
      " |-- customer_count: integer (nullable = false)\n",
      "\n"
     ]
    }
   ],
   "source": [
    "# Check the data type of \"customers\"\n",
    "customers.printSchema()"
   ]
  },
  {
   "cell_type": "code",
   "execution_count": null,
   "metadata": {},
   "outputs": [],
   "source": [
    "# Save \"customers\" to Amazon RDS\n",
    "customers.write.format('jdbc').options(\n",
    "      url='jdbc:mysql://koudash-mysql.cebj4fqgco4p.us-west-1.rds.amazonaws.com:3306/amzn_review_toys',\n",
    "      driver='com.mysql.jdbc.Driver',\n",
    "      dbtable='customers',\n",
    "      user='foo',\n",
    "      password='bar').mode('append').save()"
   ]
  },
  {
   "cell_type": "markdown",
   "metadata": {},
   "source": [
    "#### <font color=\"sky blue\">\"vine_table\"</font>"
   ]
  },
  {
   "cell_type": "code",
   "execution_count": 15,
   "metadata": {},
   "outputs": [
    {
     "name": "stdout",
     "output_type": "stream",
     "text": [
      "+--------------+-----------+-------------+-----------+----+\n",
      "|review_id     |star_rating|helpful_votes|total_votes|vine|\n",
      "+--------------+-----------+-------------+-----------+----+\n",
      "|RDIJS7QYB6XNR |5          |0            |0          |N   |\n",
      "|R36ED1U38IELG8|5          |0            |0          |N   |\n",
      "|R1UE3RPRGCOLD |2          |1            |1          |N   |\n",
      "|R298788GS6I901|5          |0            |0          |N   |\n",
      "|RNX4EXOBBPN5  |1          |1            |1          |N   |\n",
      "|R3BPETL222LMIM|5          |0            |0          |N   |\n",
      "|R3SORMPJZO3F2J|3          |2            |2          |N   |\n",
      "|R2RDOJQ0WBZCF6|5          |0            |0          |N   |\n",
      "|R2B8VBEPB4YEZ7|5          |0            |0          |N   |\n",
      "|R1CB783I7B0U52|1          |0            |1          |N   |\n",
      "|R2D90RQQ3V8LH |5          |0            |0          |N   |\n",
      "|R1Y4ZOUGFMJ327|5          |0            |0          |N   |\n",
      "|R2BUV9QJI2A00X|5          |0            |1          |N   |\n",
      "|RSUHRJFJIRB3Z |4          |0            |0          |N   |\n",
      "|R1T96CG98BBA15|3          |2            |4          |N   |\n",
      "|R2ATXF4QQ30YW |5          |0            |0          |N   |\n",
      "|R1YS3DS218NNMD|5          |4            |4          |N   |\n",
      "|R2SDXLTLF92O0H|5          |0            |0          |N   |\n",
      "|R4R337CCDWLNG |3          |0            |1          |Y   |\n",
      "|R32Z6UA4S5Q630|1          |0            |0          |N   |\n",
      "+--------------+-----------+-------------+-----------+----+\n",
      "only showing top 20 rows\n",
      "\n"
     ]
    }
   ],
   "source": [
    "# DataFrame for table of vine_table\"\n",
    "vine_table = df.select(\"review_id\", \"star_rating\", \"helpful_votes\", \"total_votes\", \"vine\")\n",
    "\n",
    "# View \"vine_table\"\n",
    "vine_table.show(truncate=False)\n"
   ]
  },
  {
   "cell_type": "code",
   "execution_count": 16,
   "metadata": {},
   "outputs": [
    {
     "name": "stdout",
     "output_type": "stream",
     "text": [
      "root\n",
      " |-- review_id: string (nullable = true)\n",
      " |-- star_rating: integer (nullable = true)\n",
      " |-- helpful_votes: integer (nullable = true)\n",
      " |-- total_votes: integer (nullable = true)\n",
      " |-- vine: string (nullable = true)\n",
      "\n"
     ]
    }
   ],
   "source": [
    "# Check the data type of \"vine_table\"\n",
    "vine_table.printSchema()"
   ]
  },
  {
   "cell_type": "code",
   "execution_count": null,
   "metadata": {},
   "outputs": [],
   "source": [
    "# Save \"vine_table\" to Amazon RDS\n",
    "vine_table.write.format('jdbc').options(\n",
    "      url='jdbc:mysql://koudash-mysql.cebj4fqgco4p.us-west-1.rds.amazonaws.com:3306/amzn_review_toys',\n",
    "      driver='com.mysql.jdbc.Driver',\n",
    "      dbtable='vine_table',\n",
    "      user='foo',\n",
    "      password='bar').mode('append').save()"
   ]
  },
  {
   "cell_type": "markdown",
   "metadata": {},
   "source": [
    "## Data Analysis"
   ]
  },
  {
   "cell_type": "markdown",
   "metadata": {},
   "source": [
    "#### <font color=\"sky blue\">Average of helpful/total votes per star rating</font>"
   ]
  },
  {
   "cell_type": "code",
   "execution_count": 17,
   "metadata": {},
   "outputs": [
    {
     "data": {
      "text/plain": [
       "[Row(star_rating=None, avg(helpful_votes)=None),\n",
       " Row(star_rating=1, avg(helpful_votes)=2.7382165796416538),\n",
       " Row(star_rating=3, avg(helpful_votes)=1.8718334270430876),\n",
       " Row(star_rating=5, avg(helpful_votes)=1.1889992482735154),\n",
       " Row(star_rating=4, avg(helpful_votes)=1.5828571874001263),\n",
       " Row(star_rating=2, avg(helpful_votes)=2.1153008073617503)]"
      ]
     },
     "execution_count": 17,
     "metadata": {},
     "output_type": "execute_result"
    }
   ],
   "source": [
    "# Calculate average of helpful votes for each star rating\n",
    "helpful_votes_per_star_rating = vine_table.groupBy(\"star_rating\").avg(\"helpful_votes\").collect()\n",
    "\n",
    "# View \"helpful_votes_per_star_rating\"\n",
    "helpful_votes_per_star_rating"
   ]
  },
  {
   "cell_type": "code",
   "execution_count": 18,
   "metadata": {},
   "outputs": [
    {
     "data": {
      "text/plain": [
       "[Row(star_rating=None, avg(total_votes)=None),\n",
       " Row(star_rating=1, avg(total_votes)=4.225751060069787),\n",
       " Row(star_rating=3, avg(total_votes)=2.465214767281712),\n",
       " Row(star_rating=5, avg(total_votes)=1.4027732954772585),\n",
       " Row(star_rating=4, avg(total_votes)=1.8862823201103776),\n",
       " Row(star_rating=2, avg(total_votes)=2.9400512197239346)]"
      ]
     },
     "execution_count": 18,
     "metadata": {},
     "output_type": "execute_result"
    }
   ],
   "source": [
    "# Calculate average of total votes for each star rating\n",
    "total_votes_per_star_rating = vine_table.groupBy(\"star_rating\").avg(\"total_votes\").collect()\n",
    "\n",
    "# View \"total_votes_per_star_rating\"\n",
    "total_votes_per_star_rating"
   ]
  },
  {
   "cell_type": "code",
   "execution_count": 19,
   "metadata": {},
   "outputs": [
    {
     "name": "stdout",
     "output_type": "stream",
     "text": [
      "Star rating: [1, 2, 3, 4, 5]\n",
      "Helpful votes (avg.): [2.7382165796416538, 2.1153008073617503, 1.8718334270430876, 1.5828571874001263, 1.1889992482735154]\n",
      "Toatl votes (avg.): [4.225751060069787, 2.9400512197239346, 2.465214767281712, 1.8862823201103776, 1.4027732954772585]\n"
     ]
    }
   ],
   "source": [
    "# List for helpful/total votes (avg.) and star ratings\n",
    "x_im = []\n",
    "y1_im = []\n",
    "y2_im = []\n",
    "x_axis = []\n",
    "y1_axis = []\n",
    "y2_axis = []\n",
    "\n",
    "# Temporarily store helpful/total votes (avg.) and star ratings\n",
    "[x_im.append(row[0]) for row in helpful_votes_per_star_rating if row[0] != None]\n",
    "[y1_im.append(row[1]) for row in helpful_votes_per_star_rating if row[0] != None]\n",
    "[y2_im.append(row[1]) for row in total_votes_per_star_rating if row[0] != None]\n",
    "# Adjust the order for plotting\n",
    "[x_axis.append(x_im[i]) for i in [0, 4, 1, 3, 2]]\n",
    "[y1_axis.append(y1_im[i]) for i in [0, 4, 1, 3, 2]]\n",
    "[y2_axis.append(y2_im[i]) for i in [0, 4, 1, 3, 2]]\n",
    "\n",
    "# Print helpful/total votes (avg.) and star ratings (as x- and y-axes)\n",
    "print(f\"Star rating: {x_axis}\")\n",
    "print(f\"Helpful votes (avg.): {y1_axis}\")\n",
    "print(f\"Toatl votes (avg.): {y2_axis}\")"
   ]
  },
  {
   "cell_type": "code",
   "execution_count": 20,
   "metadata": {},
   "outputs": [
    {
     "data": {
      "text/plain": [
       "<Figure size 640x480 with 1 Axes>"
      ]
     },
     "metadata": {},
     "output_type": "display_data"
    }
   ],
   "source": [
    "import matplotlib.pyplot as plt\n",
    "\n",
    "# Line-scatter plot\n",
    "plt.plot(x_axis, y1_axis, '-o', c='r', label=\"Helpful votes (avg)\")\n",
    "plt.plot(x_axis, y2_axis, '-x', c='b', label=\"Total votes (avg)\")\n",
    "\n",
    "# Create title\n",
    "plt.title(\"Average of Helpful / Total Votes per Star Rating\")\n",
    "\n",
    "# Create labels for x and y axes\n",
    "plt.xlabel(\"Star rating\")\n",
    "plt.ylabel(\"Counts\")\n",
    "\n",
    "# Create x-ticks\n",
    "plt.xticks(x_axis)\n",
    "\n",
    "# Create legend\n",
    "plt.legend(loc=\"best\")\n",
    "\n",
    "# Save figure\n",
    "plt.savefig(\"../figures/TOYS_avg_helpful_or_total_votes_per_star_rating.png\", bbox_inches='tight', dpi=300)\n",
    "\n",
    "plt.show()"
   ]
  },
  {
   "cell_type": "markdown",
   "metadata": {},
   "source": [
    "###### It can be told from the above plot that counts for both total and helpful votes are negatively correlated with the star rating."
   ]
  },
  {
   "cell_type": "markdown",
   "metadata": {},
   "source": [
    "#### <font color=\"sky blue\">Helpful votes study subgrouped by total votes</font>"
   ]
  },
  {
   "cell_type": "code",
   "execution_count": 21,
   "metadata": {},
   "outputs": [
    {
     "name": "stdout",
     "output_type": "stream",
     "text": [
      "+-------+------------------+-----------------+\n",
      "|summary|     helpful_votes|      total_votes|\n",
      "+-------+------------------+-----------------+\n",
      "|   mean|1.4768606338129078|1.868630535111013|\n",
      "|    25%|                 0|                0|\n",
      "|    75%|                 1|                1|\n",
      "+-------+------------------+-----------------+\n",
      "\n"
     ]
    }
   ],
   "source": [
    "# Look at the \"mean\" (not \"median\"), \"25%\" and \"75%\" of \"helpful_votes\" and \"total_votes\" columns from \"vine_table\"\n",
    "vine_table.select(\"helpful_votes\", \"total_votes\").summary(\"mean\", \"25%\", \"75%\").show()"
   ]
  },
  {
   "cell_type": "code",
   "execution_count": 22,
   "metadata": {},
   "outputs": [],
   "source": [
    "# Dictionary to hold \"total_votes\"-subgrouped \"vine_table\"\n",
    "vine_tv_dict = {0 : \"\", 1 : \"\", 2 : \"\", 3 : \"\"}\n",
    "\n",
    "# Subgroup \"vin_table\" by counts of \"total_votes\"\n",
    "for i in range(4):\n",
    "    if i != 3:\n",
    "        vine_tv_dict[i] = vine_table.filter(vine_table[\"total_votes\"] == i).select(\"review_id\", \"helpful_votes\", \"vine\")\n",
    "    else:\n",
    "        vine_tv_dict[i] = vine_table.filter(vine_table[\"total_votes\"] >= i).select(\"review_id\", \"helpful_votes\", \"vine\")"
   ]
  },
  {
   "cell_type": "code",
   "execution_count": 23,
   "metadata": {
    "scrolled": true
   },
   "outputs": [
    {
     "name": "stdout",
     "output_type": "stream",
     "text": [
      "0\n",
      "1\n",
      "2\n",
      "3\n",
      "Average helpful votes from vine population: [0.0, 0.5508345978755691, 1.2015452538631346, 11.790161326971143]\n",
      "Average helpful votes not from vine population: [0.0, 0.667286391005192, 1.4094267538096026, 8.705101540681671]\n"
     ]
    }
   ],
   "source": [
    "# Lists to hold average helpful votes subgrouped by total votes\n",
    "vt_helpful_avg_list = []\n",
    "vf_helpful_avg_list = []\n",
    "\n",
    "for i in range(4):\n",
    "    \n",
    "    # Divide \"vine_table\" into two based on the value of \"vine\" \n",
    "    vine_true = vine_tv_dict[i].filter(vine_tv_dict[i][\"vine\"] == \"Y\").select(\"review_id\", \"helpful_votes\")\n",
    "    vine_false = vine_tv_dict[i].filter(vine_tv_dict[i][\"vine\"] == \"N\").select(\"review_id\", \"helpful_votes\")\n",
    "    \n",
    "    # Calculate average helpful votes and appended them to the above lists\n",
    "    vt_helpful_avg_list.append(vine_true.select(func.avg(\"helpful_votes\")).collect()[0][0])\n",
    "    vf_helpful_avg_list.append(vine_false.select(func.avg(\"helpful_votes\")).collect()[0][0])\n",
    "    \n",
    "    print(i)\n",
    "    \n",
    "# Print results\n",
    "print(f\"Average helpful votes from vine population: {vt_helpful_avg_list}\")\n",
    "print(f\"Average helpful votes not from vine population: {vf_helpful_avg_list}\")"
   ]
  },
  {
   "cell_type": "code",
   "execution_count": 26,
   "metadata": {},
   "outputs": [
    {
     "data": {
      "image/png": "[encoded data removed]",
      "text/plain": [
       "<Figure size 432x288 with 1 Axes>"
      ]
     },
     "metadata": {
      "needs_background": "light"
     },
     "output_type": "display_data"
    }
   ],
   "source": [
    "# Line-scatter plot\n",
    "plt.plot(list(range(4)), vt_helpful_avg_list, '-o', c='r', label='vine=\"Y\"')\n",
    "plt.plot(list(range(4)), vf_helpful_avg_list, '-x', c='b', label='vine=\"N\"')\n",
    "\n",
    "# Create title\n",
    "plt.title(\"Average of Helpful Votes in Subgroups Categorized by Total Votes\")\n",
    "\n",
    "# Create labels for x and y axes\n",
    "plt.xlabel(\"Total Votes\")\n",
    "plt.ylabel(\"Counts\")\n",
    "\n",
    "# Create x-ticks\n",
    "plt.xticks(list(range(4)), [\"0\", \"1\", \"2\", \">=3\"])\n",
    "\n",
    "# Create legend\n",
    "plt.legend(loc=\"best\")\n",
    "\n",
    "# Save figure\n",
    "plt.savefig(\"../figures/TOYS_avg_helpful_votes_by_total_votes.png\", bbox_inches='tight', dpi=300)\n",
    "\n",
    "plt.show()"
   ]
  },
  {
   "cell_type": "markdown",
   "metadata": {},
   "source": [
    "###### The average of helpful votes from vine customers does not outweigh over those from non vine customers in that the total votes are not greater than two. Only when going beyond that range are reviews from vine costomers more helpful."
   ]
  },
  {
   "cell_type": "code",
   "execution_count": null,
   "metadata": {},
   "outputs": [],
   "source": []
  }
 ],
 "metadata": {
  "kernelspec": {
   "display_name": "Python 3",
   "language": "python",
   "name": "python3"
  },
  "language_info": {
   "codemirror_mode": {
    "name": "ipython",
    "version": 3
   },
   "file_extension": ".py",
   "mimetype": "text/x-python",
   "name": "python",
   "nbconvert_exporter": "python",
   "pygments_lexer": "ipython3",
   "version": "3.7.1"
  }
 },
 "nbformat": 4,
 "nbformat_minor": 2
}
